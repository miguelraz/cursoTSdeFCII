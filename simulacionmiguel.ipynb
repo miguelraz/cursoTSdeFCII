{
 "cells": [
  {
   "cell_type": "code",
   "execution_count": 78,
   "metadata": {
    "collapsed": false
   },
   "outputs": [
    {
     "name": "stderr",
     "output_type": "stream",
     "text": [
      "INFO: Cloning cache of Combinatorics from https://github.com/JuliaMath/Combinatorics.jl.git\n",
      "INFO: Cloning cache of Polynomials from https://github.com/Keno/Polynomials.jl.git\n",
      "INFO: Installing Combinatorics v0.3.2\n",
      "INFO: Installing Polynomials v0.1.0\n",
      "INFO: Package database updated\n",
      "INFO: METADATA is out-of-date — you may not have the latest version of Combinatorics\n",
      "INFO: Use `Pkg.update()` to get the latest versions of your packages\n"
     ]
    }
   ],
   "source": [
    "Pkg.add(\"Combinatorics\")"
   ]
  },
  {
   "cell_type": "code",
   "execution_count": 79,
   "metadata": {
    "collapsed": false
   },
   "outputs": [
    {
     "name": "stderr",
     "output_type": "stream",
     "text": [
      "INFO: Precompiling module Polynomials.\n",
      "INFO: Recompiling stale cache file /home/mrg/.julia/lib/v0.5/Iterators.ji for module Iterators.\n"
     ]
    }
   ],
   "source": [
    "using Combinatorics"
   ]
  },
  {
   "cell_type": "code",
   "execution_count": 1,
   "metadata": {
    "collapsed": false
   },
   "outputs": [],
   "source": [
    "using PyPlot"
   ]
  },
  {
   "cell_type": "code",
   "execution_count": 100,
   "metadata": {
    "collapsed": false
   },
   "outputs": [
    {
     "data": {
      "text/plain": [
       "12×12 Array{Tuple{Int64,Int64},2}:\n",
       " (1,1)   (1,2)   (1,3)   (1,4)   (1,5)   …  (1,9)   (1,10)   (1,11)   (1,12) \n",
       " (2,1)   (2,2)   (2,3)   (2,4)   (2,5)      (2,9)   (2,10)   (2,11)   (2,12) \n",
       " (3,1)   (3,2)   (3,3)   (3,4)   (3,5)      (3,9)   (3,10)   (3,11)   (3,12) \n",
       " (4,1)   (4,2)   (4,3)   (4,4)   (4,5)      (4,9)   (4,10)   (4,11)   (4,12) \n",
       " (5,1)   (5,2)   (5,3)   (5,4)   (5,5)      (5,9)   (5,10)   (5,11)   (5,12) \n",
       " (6,1)   (6,2)   (6,3)   (6,4)   (6,5)   …  (6,9)   (6,10)   (6,11)   (6,12) \n",
       " (7,1)   (7,2)   (7,3)   (7,4)   (7,5)      (7,9)   (7,10)   (7,11)   (7,12) \n",
       " (8,1)   (8,2)   (8,3)   (8,4)   (8,5)      (8,9)   (8,10)   (8,11)   (8,12) \n",
       " (9,1)   (9,2)   (9,3)   (9,4)   (9,5)      (9,9)   (9,10)   (9,11)   (9,12) \n",
       " (10,1)  (10,2)  (10,3)  (10,4)  (10,5)     (10,9)  (10,10)  (10,11)  (10,12)\n",
       " (11,1)  (11,2)  (11,3)  (11,4)  (11,5)  …  (11,9)  (11,10)  (11,11)  (11,12)\n",
       " (12,1)  (12,2)  (12,3)  (12,4)  (12,5)     (12,9)  (12,10)  (12,11)  (12,12)"
      ]
     },
     "execution_count": 100,
     "metadata": {},
     "output_type": "execute_result"
    }
   ],
   "source": [
    "#Starting Grid\n",
    "NGridSize = 12\n",
    "const α = .5 #Coeficiente de clon de presa\n",
    "const β = .5 #Coeficiente de clon de depredador\n",
    "const ϵ_inicial = -3 #Energia inicial para cada clon de depredador\n",
    "const Δϵ = 1  #Perdida de energia por paso de tiempo\n",
    "const γ = .1 #Porcentaje a hacer update en cada turno\n",
    "const ρ_1 = .333 #Densidad de presas\n",
    "const ρ_2 = .333 #Densidad de depredadores\n",
    "\n",
    "Grid = rand(-1:1:1,NGridSize,NGridSize)\n",
    "GlobalTurnTimer = 0\n",
    "Espacio_Coordenadas = [(x,y) for x=1:NGridSize, y=1:NGridSize]"
   ]
  },
  {
   "cell_type": "code",
   "execution_count": 3,
   "metadata": {
    "collapsed": false
   },
   "outputs": [
    {
     "data": {
      "text/plain": [
       "2"
      ]
     },
     "execution_count": 3,
     "metadata": {},
     "output_type": "execute_result"
    }
   ],
   "source": [
    "\n",
    "YSouth = mod(Row,NGridSize)+1\n",
    "XWest = mod(Col,  NGridSize) +1\n",
    "XEast = mod(Col-2,  NGridSize) +1\n",
    "YNorth = mod(Row-2, NGridSize) +1"
   ]
  },
  {
   "cell_type": "code",
   "execution_count": 42,
   "metadata": {
    "collapsed": false
   },
   "outputs": [
    {
     "name": "stderr",
     "output_type": "stream",
     "text": [
      "WARNING: Method definition check_vecinos_vacios(Int64, Int64) in module Main at In[2]:14 overwritten at In[42]:13.\n",
      "WARNING: replacing docs for 'check_vecinos_vacios :: Tuple{Int64,Int64}' in module 'Main'.\n"
     ]
    },
    {
     "data": {
      "text/plain": [
       "check_vecinos_vacios"
      ]
     },
     "execution_count": 42,
     "metadata": {},
     "output_type": "execute_result"
    }
   ],
   "source": [
    "\"\"\"\n",
    "Esta función revisa si en un vecindario de las 8 casillas adyacentes a una entrada en la matriz de Grid\n",
    "existe al menos un solo vecino vacío. El código toma en cuenta los casos donde la frontera es toroidal.\n",
    "Ejemplo:\n",
    "```julia\n",
    "julia> a=eye[2,2]\n",
    "julia> check_vecinos_vacios(1,1)\n",
    "1\n",
    "julia> check_vecinos_vacios(1,2)\n",
    "0\n",
    "\"\"\"\n",
    "function check_vecinos_vacios(Row::Int,Col::Int)\n",
    "    YSouth = mod(Row,NGridSize)+1\n",
    "    XWest = mod(Col,  NGridSize) +1\n",
    "    XEast = mod(Col-2,  NGridSize) +1\n",
    "    YNorth = mod(Row-2, NGridSize) +1\n",
    "    \n",
    "    @show Grid[YNorth, Col]== 0 ||Grid[Row, XEast]==0 ||\n",
    "    Grid[Row, XWest]==0 || Grid[YSouth, Col]==0 ||\n",
    "    Grid[YNorth,XEast]==0 || Grid[YNorth,XWest]==0 ||\n",
    "    Grid[YSouth,XEast]==0 || Grid[YSouth,XWest]== 0 return 1\n",
    "    \n",
    "    return 0\n",
    "end"
   ]
  },
  {
   "cell_type": "code",
   "execution_count": 70,
   "metadata": {
    "collapsed": false
   },
   "outputs": [
    {
     "data": {
      "text/plain": [
       "5×5 Array{Int64,2}:\n",
       " 0   0  0  0  0\n",
       " 1  -3  0  0  0\n",
       " 0   0  0  0  0\n",
       " 0   0  0  0  0\n",
       " 0   0  0  0  0"
      ]
     },
     "execution_count": 70,
     "metadata": {},
     "output_type": "execute_result"
    }
   ],
   "source": [
    "Grid = [0 for x=1:5, y=1:5]\n",
    "Grid[2,2] = -3\n",
    "Grid[2,1] = 1\n",
    "Grid"
   ]
  },
  {
   "cell_type": "code",
   "execution_count": 73,
   "metadata": {
    "collapsed": false,
    "scrolled": false
   },
   "outputs": [
    {
     "data": {
      "text/plain": [
       "5×5 Array{Int64,2}:\n",
       "  0   0  0  0  0\n",
       " -3   0  0  0  0\n",
       "  0  -2  0  0  0\n",
       "  0   0  0  0  0\n",
       "  0   0  0  0  0"
      ]
     },
     "execution_count": 73,
     "metadata": {},
     "output_type": "execute_result"
    }
   ],
   "source": [
    "moviendo_depredador(2,2,Grid,.5)\n",
    "#Grid = rand(-1:1:1,NGridSize,NGridSize)\n",
    "Grid"
   ]
  },
  {
   "cell_type": "code",
   "execution_count": 3,
   "metadata": {
    "collapsed": false
   },
   "outputs": [
    {
     "data": {
      "text/plain": [
       "check_comer_depredador"
      ]
     },
     "execution_count": 3,
     "metadata": {},
     "output_type": "execute_result"
    }
   ],
   "source": [
    "\"\"\"\n",
    "Esta función revisa si en un vecindario de las 8 casillas aledañas a la entrada (Row,Col) existe al menos\n",
    "una presa, y regresa un 1 en dado caso, 0 c.o.c. El código toma en cuenta el caso donde la frontera es toroidal.\n",
    "julia> a=eye[2,2]\n",
    "julia> check_comer_depredador(1,1)\n",
    "1\n",
    "julia> b = zeros[2,2]\n",
    "julia> check_comer_depredador[1,1]\n",
    "0\n",
    "\"\"\"\n",
    "function check_comer_depredador(Row::Int,Col::Int,Grid::Array{Int,2})\n",
    "    YSouth = mod(Row,NGridSize)+1\n",
    "    XWest = mod(Col,  NGridSize) +1\n",
    "    XEast = mod(Col-2,  NGridSize) +1\n",
    "    YNorth = mod(Row-2, NGridSize) +1\n",
    "    \n",
    "    @show if Grid[YNorth, Col] > 0 || Grid[Row, XEast] > 0 || Grid[Row, XWest] > 0 ||  Grid[YSouth,Col] > 0 || Grid[YNorth,XEast] > 0 || Grid[YNorth,XWest] > 0 || Grid[YSouth,XEast] > 0 ||  Grid[YSouth,XWest] > 0\n",
    "        return 1\n",
    "    else return 0\n",
    "    end\n",
    "end"
   ]
  },
  {
   "cell_type": "code",
   "execution_count": 4,
   "metadata": {
    "collapsed": false
   },
   "outputs": [
    {
     "data": {
      "text/plain": [
       "check_mover_depredador"
      ]
     },
     "execution_count": 4,
     "metadata": {},
     "output_type": "execute_result"
    }
   ],
   "source": [
    "\"\"\"\n",
    "Esta función revisa si en un vecindario de las 8 casillas aledañas a la entrada (Row,Col) existe al menos\n",
    "un movimiento posible para el depredador, y regresa un 1 en dado caso, 0 c.o.c. El código toma en cuenta el caso donde la frontera es toroidal.\n",
    "julia> a=eye[2,2]\n",
    "julia> check_mover_depredador(1,1)\n",
    "1\n",
    "julia> b = zeros[2,2]\n",
    "julia> check_comer_depredador[1,1]\n",
    "0\n",
    "\"\"\"\n",
    "function check_mover_depredador(Row::Int,Col::Int,Grid::Array{Int,2})\n",
    "    YSouth = mod(Row,NGridSize)+1\n",
    "    XWest = mod(Col,  NGridSize) +1\n",
    "    XEast = mod(Col-2,  NGridSize) +1\n",
    "    YNorth = mod(Row-2, NGridSize) +1\n",
    "    \n",
    "    @show if Grid[YNorth, Col] >= 0 || Grid[Row, XEast] >= 0 || Grid[Row, XWest] >= 0 ||  Grid[YSouth,Col] >= 0 || Grid[YNorth,XEast] >= 0 || Grid[YNorth,XWest] >= 0 || Grid[YSouth,XEast] >= 0 || Grid[YSouth,XWest] >= 0\n",
    "        return 1\n",
    "    else return 0\n",
    "        \n",
    "    end\n",
    "end"
   ]
  },
  {
   "cell_type": "code",
   "execution_count": 174,
   "metadata": {
    "collapsed": false
   },
   "outputs": [
    {
     "data": {
      "text/plain": [
       "moviendo_presa (generic function with 1 method)"
      ]
     },
     "execution_count": 174,
     "metadata": {},
     "output_type": "execute_result"
    }
   ],
   "source": [
    "#Movimiento de presas\n",
    "function moviendo_presa(Row::Int,Col::Int,α::Float64)\n",
    "    \n",
    "    if Grid[Row,Col] <= 0\n",
    "        return 0 \n",
    "    end\n",
    "    \n",
    "    if check_vecinos_vacios(Row,Col) == 1\n",
    "        println(\"moviendo presa\")\n",
    "        \n",
    "        #Coeficiente de clonado\n",
    "        rand() < α ? clon = 1 : clon = 0\n",
    "\n",
    "        YSouth = mod(Row,NGridSize)+1\n",
    "        XWest = mod(Col,  NGridSize) +1\n",
    "        XEast = mod(Col-2,  NGridSize) +1\n",
    "        YNorth = mod(Row-2, NGridSize) +1\n",
    "        \n",
    "        while true\n",
    "        @show behave = rand(1:1:8)\n",
    "         if behave == 1 && Grid[YNorth,XWest] == 0\n",
    "            Grid[YNorth,XWest] = 1\n",
    "            Grid[Row,Col] = clon\n",
    "                break\n",
    "        elseif behave == 2 && Grid[YNorth,Col] == 0\n",
    "            Grid[YNorth,Col] = 1\n",
    "            Grid[Row,Col] = clon\n",
    "                break\n",
    "        elseif behave == 3 && Grid[YNorth,XEast] == 0\n",
    "            Grid[YNorth,XEast] = 1 \n",
    "            Grid[Row,Col] = clon\n",
    "                break\n",
    "        elseif behave == 4 && Grid[Row,XWest] == 0\n",
    "            Grid[Row,XWest] = 1\n",
    "            Grid[Row,Col] = clon\n",
    "                break\n",
    "        elseif behave == 5 && Grid[Row,XEast] == 0\n",
    "            Grid[Row,XEast] = 1\n",
    "            Grid[Row,Col] = clon\n",
    "                break\n",
    "        elseif behave == 6 && Grid[YSouth,XWest] == 0\n",
    "            Grid[YSouth,XWest] = 1\n",
    "            Grid[Row,Col] = clon\n",
    "                break\n",
    "        elseif behave == 7 && Grid[YSouth,Col] == 0\n",
    "            Grid[YSouth,Col] = 1\n",
    "            Grid[Row,Col] = clon\n",
    "                break\n",
    "        elseif behave == 8 && Grid[YSouth,XEast] == 0\n",
    "            Grid[YSouth,XEast] = clon\n",
    "                Grid[Row,Col] = clon\n",
    "                break\n",
    "            \n",
    "            end\n",
    "        end\n",
    "    end\n",
    "end\n",
    "\n",
    "            \n"
   ]
  },
  {
   "cell_type": "code",
   "execution_count": null,
   "metadata": {
    "collapsed": true
   },
   "outputs": [],
   "source": []
  },
  {
   "cell_type": "code",
   "execution_count": 64,
   "metadata": {
    "collapsed": false
   },
   "outputs": [
    {
     "name": "stderr",
     "output_type": "stream",
     "text": [
      "WARNING: Method definition moviendo_depredador(Int64, Int64, Array{Int64, 2}, Float64) in module Main at In[26]:4 overwritten at In[64]:4.\n"
     ]
    },
    {
     "data": {
      "text/plain": [
       "moviendo_depredador (generic function with 1 method)"
      ]
     },
     "execution_count": 64,
     "metadata": {},
     "output_type": "execute_result"
    }
   ],
   "source": [
    "#Movimiento de depredadores\n",
    "function moviendo_depredador(Row::Int,Col::Int,Grid::Array{Int,2},β::Float64)\n",
    "    \n",
    "    if Grid[Row,Col] >= 0\n",
    "        return 0\n",
    "    end\n",
    "    \n",
    "    puede_moverse = 0\n",
    "    puede_comer = 0\n",
    "    \n",
    "    @show puede_moverse = check_mover_depredador(Row,Col,Grid)\n",
    "    @show puede_comer   = check_comer_depredador(Row,Col,Grid)\n",
    "        \n",
    "    @show puede_comer == 1 ? ϵ_depredador = ϵ_inicial : ϵ_depredador = Grid[Row,Col] + Δϵ \n",
    "    \n",
    "    if check_mover_depredador(Row,Col,Grid) == 1\n",
    "        \n",
    "        #Coeficiente de clonado\n",
    "        rand() < β ? clon = ϵ_inicial : clon = 0\n",
    "        \n",
    "        YSouth = mod(Row,NGridSize)+1\n",
    "        XWest = mod(Col,  NGridSize) +1\n",
    "        XEast = mod(Col-2,  NGridSize) +1\n",
    "        YNorth = mod(Row-2, NGridSize) +1\n",
    "        \n",
    "        while true\n",
    "        @show behave = rand(1:1:8)\n",
    "            if behave == 1 && Grid[YNorth,XWest] >= puede_comer  \n",
    "                Grid[YNorth,XWest] = ϵ_depredador\n",
    "                Grid[Row,Col] = clon    \n",
    "                break\n",
    "        elseif behave == 2 && Grid[YNorth,Col]  >= puede_comer \n",
    "                Grid[YNorth,Col] = ϵ_depredador\n",
    "                Grid[Row,Col] = clon\n",
    "                break\n",
    "        elseif behave == 3 && Grid[YNorth,XEast] >= puede_comer   \n",
    "                Grid[YNorth,XEast] = ϵ_depredador \n",
    "                Grid[Row,Col] = clon\n",
    "                break\n",
    "        elseif behave == 4 && Grid[Row,XWest] >= puede_comer   \n",
    "                Grid[Row,XWest] = ϵ_depredador\n",
    "                Grid[Row,Col] = clon\n",
    "                break\n",
    "        elseif behave == 5 && Grid[Row,XEast] >= puede_comer   \n",
    "                Grid[Row,XEast] = ϵ_depredador\n",
    "                Grid[Row,Col] = clon\n",
    "                break\n",
    "        elseif behave == 6 && Grid[YSouth,XWest] >= puede_comer \n",
    "                Grid[YSouth,XWest] = ϵ_depredador\n",
    "                Grid[Row,Col] = clon\n",
    "                break\n",
    "        elseif behave == 7 && Grid[YSouth,Col] >= puede_comer  \n",
    "                Grid[YSouth,Col] = ϵ_depredador\n",
    "                Grid[Row,Col] = clon\n",
    "                break\n",
    "        elseif behave == 8 && Grid[YSouth,XEast] >= puede_comer \n",
    "                Grid[YSouth,XEast] = ϵ_depredador \n",
    "                Grid[Row,Col] = clon\n",
    "                break\n",
    "            \n",
    "        end\n",
    "        end\n",
    "    end\n",
    "end\n",
    "\n",
    " "
   ]
  },
  {
   "cell_type": "code",
   "execution_count": 74,
   "metadata": {
    "collapsed": false
   },
   "outputs": [
    {
     "ename": "LoadError",
     "evalue": "LoadError: MethodError: no method matching moviendo_depredador(::Int64, ::Int64, ::Array{Float64,2}, ::Float64)\nClosest candidates are:\n  moviendo_depredador(::Int64, ::Int64, !Matched::Array{Int64,2}, ::Float64) at In[64]:4\nwhile loading In[74], in expression starting on line 4",
     "output_type": "error",
     "traceback": [
      "LoadError: MethodError: no method matching moviendo_depredador(::Int64, ::Int64, ::Array{Float64,2}, ::Float64)\nClosest candidates are:\n  moviendo_depredador(::Int64, ::Int64, !Matched::Array{Int64,2}, ::Float64) at In[64]:4\nwhile loading In[74], in expression starting on line 4",
      ""
     ]
    }
   ],
   "source": [
    "Grid = eye(5,5)\n",
    "Grid[2,2] = -3\n",
    "\n",
    "moviendo_depredador(2,2,Grid,.5)\n",
    "#Grid = rand(-1:1:1,NGridSize,NGridSize)\n",
    "Grid"
   ]
  },
  {
   "cell_type": "code",
   "execution_count": 54,
   "metadata": {
    "collapsed": false
   },
   "outputs": [
    {
     "ename": "LoadError",
     "evalue": "LoadError: syntax: incomplete: premature end of input\nwhile loading In[54], in expression starting on line 3",
     "output_type": "error",
     "traceback": [
      "LoadError: syntax: incomplete: premature end of input\nwhile loading In[54], in expression starting on line 3",
      ""
     ]
    }
   ],
   "source": [
    "#Super Gran Loop\n",
    "Grid = rand(-1:1:1, NGridSize,NGridSize)\n",
    "for 1:GlobalTurnTimer=1000\n",
    "    \n",
    "    \n",
    "    "
   ]
  },
  {
   "cell_type": "code",
   "execution_count": 60,
   "metadata": {
    "collapsed": false
   },
   "outputs": [
    {
     "ename": "LoadError",
     "evalue": "LoadError: UndefVarError: index not defined\nwhile loading In[60], in expression starting on line 1",
     "output_type": "error",
     "traceback": [
      "LoadError: UndefVarError: index not defined\nwhile loading In[60], in expression starting on line 1",
      ""
     ]
    }
   ],
   "source": [
    "sortperm(index(Grid))\n"
   ]
  },
  {
   "cell_type": "code",
   "execution_count": 64,
   "metadata": {
    "collapsed": false
   },
   "outputs": [
    {
     "data": {
      "text/plain": [
       "5-element Array{Int64,1}:\n",
       "  0\n",
       "  1\n",
       "  0\n",
       "  1\n",
       " -1"
      ]
     },
     "execution_count": 64,
     "metadata": {},
     "output_type": "execute_result"
    }
   ],
   "source": [
    "collect(take(Grid,5))"
   ]
  },
  {
   "cell_type": "code",
   "execution_count": 69,
   "metadata": {
    "collapsed": false
   },
   "outputs": [
    {
     "data": {
      "text/plain": [
       "Enumerate{Array{Int64,2}}([0 0 … 0 0; 1 0 … 1 0; … ; 0 -1 … -1 0; 1 -1 … 0 -1])"
      ]
     },
     "execution_count": 69,
     "metadata": {},
     "output_type": "execute_result"
    }
   ],
   "source": [
    "iter=enumerate(Grid)"
   ]
  },
  {
   "cell_type": "code",
   "execution_count": 73,
   "metadata": {
    "collapsed": false
   },
   "outputs": [
    {
     "data": {
      "text/plain": [
       "52"
      ]
     },
     "execution_count": 73,
     "metadata": {},
     "output_type": "execute_result"
    }
   ],
   "source": [
    "count(iter->(iter>0), Grid)"
   ]
  },
  {
   "cell_type": "code",
   "execution_count": 72,
   "metadata": {
    "collapsed": false
   },
   "outputs": [
    {
     "data": {
      "text/plain": [
       "51"
      ]
     },
     "execution_count": 72,
     "metadata": {},
     "output_type": "execute_result"
    }
   ],
   "source": [
    "count(iter->(iter<0), Grid)"
   ]
  },
  {
   "cell_type": "code",
   "execution_count": 77,
   "metadata": {
    "collapsed": false
   },
   "outputs": [
    {
     "name": "stderr",
     "output_type": "stream",
     "text": [
      "INFO: No packages to install, update or remove\n",
      "INFO: Package database updated\n",
      "INFO: METADATA is out-of-date — you may not have the latest version of StatsBase\n",
      "INFO: Use `Pkg.update()` to get the latest versions of your packages\n"
     ]
    }
   ],
   "source": [
    "Pkg.add(\"StatsBase\")"
   ]
  },
  {
   "cell_type": "code",
   "execution_count": 78,
   "metadata": {
    "collapsed": false
   },
   "outputs": [
    {
     "name": "stderr",
     "output_type": "stream",
     "text": [
      "INFO: Recompiling stale cache file /home/mrg/.julia/lib/v0.5/StatsBase.ji for module StatsBase.\n"
     ]
    }
   ],
   "source": [
    "using StatsBase"
   ]
  },
  {
   "cell_type": "code",
   "execution_count": 114,
   "metadata": {
    "collapsed": false,
    "scrolled": true
   },
   "outputs": [
    {
     "data": {
      "text/plain": [
       "10×10 Array{Int64,2}:\n",
       "  1  -3   0  -1   0   1  -1  -3  -1   0\n",
       " -1  -2   0   1   1   0   0   1  -1   1\n",
       " -2  -1   1   0   1  -3  -3   1   1  -3\n",
       "  0  -2   1   1  -1   1   1  -2  -3   1\n",
       "  0  -2   0   1  -3   1  -2   1   0  -3\n",
       "  1  -3   0   0  -3   1   1  -2   0  -3\n",
       "  0  -1   1   1   0  -1   1   1   1   1\n",
       "  1   0  -2  -1  -1   1  -1  -1  -1   1\n",
       "  1   0   1  -2   0   0   1   0   1   1\n",
       "  0   1   1   1   1   0  -1  -2  -3  -3"
      ]
     },
     "execution_count": 114,
     "metadata": {},
     "output_type": "execute_result"
    }
   ],
   "source": [
    "items = [-3,-2,-1,0,1]\n",
    "weights = [ρ_1 /3, ρ_1 /3, ρ_1 /3, 1-ρ_1-ρ_2, ρ_2]\n",
    "\n",
    "sample(items,WeightVec(weights),100, replace=false)\n",
    "AAA = reshape(sample(items,WeightVec(weights),100, replace=true),10,10)"
   ]
  },
  {
   "cell_type": "code",
   "execution_count": 80,
   "metadata": {
    "collapsed": false
   },
   "outputs": [
    {
     "data": {
      "text/plain": [
       "1-element Array{Array{UnitRange{Int64},1},1}:\n",
       " UnitRange{Int64}[1:12]"
      ]
     },
     "execution_count": 80,
     "metadata": {},
     "output_type": "execute_result"
    }
   ],
   "source": [
    "collect(permutations([1:NGridSize]))"
   ]
  },
  {
   "cell_type": "code",
   "execution_count": 82,
   "metadata": {
    "collapsed": false
   },
   "outputs": [
    {
     "ename": "LoadError",
     "evalue": "LoadError: BoundsError\nwhile loading In[82], in expression starting on line 1",
     "output_type": "error",
     "traceback": [
      "LoadError: BoundsError\nwhile loading In[82], in expression starting on line 1",
      "",
      " in indexed_next(::Int64, ::Int64, ::Bool) at ./tuple.jl:35",
      " in macro expansion; at ./In[82]:2 [inlined]",
      " in anonymous at ./<missing>:?"
     ]
    }
   ],
   "source": [
    "for i in eachindex(Grid)\n",
    "    Row,Col = i\n",
    "    print(Row,Col)\n",
    "end"
   ]
  },
  {
   "cell_type": "code",
   "execution_count": 97,
   "metadata": {
    "collapsed": false
   },
   "outputs": [
    {
     "ename": "LoadError",
     "evalue": "LoadError: syntax: unexpected end\nwhile loading In[97], in expression starting on line 4",
     "output_type": "error",
     "traceback": [
      "LoadError: syntax: unexpected end\nwhile loading In[97], in expression starting on line 4",
      ""
     ]
    }
   ],
   "source": [
    "for i in CartesianRange(size(Grid))\n",
    "    println(i, \" \", Grid[i])\n",
    "    [Row,Col] = \n",
    "       end"
   ]
  },
  {
   "cell_type": "code",
   "execution_count": 113,
   "metadata": {
    "collapsed": false
   },
   "outputs": [
    {
     "data": {
      "text/plain": [
       "12×12 Array{Tuple{Int64,Int64},2}:\n",
       " (1,1)   (1,2)   (1,3)   (1,4)   (1,5)   …  (1,9)   (1,10)   (1,11)   (1,12) \n",
       " (2,1)   (2,2)   (2,3)   (2,4)   (2,5)      (2,9)   (2,10)   (2,11)   (2,12) \n",
       " (3,1)   (3,2)   (3,3)   (3,4)   (3,5)      (3,9)   (3,10)   (3,11)   (3,12) \n",
       " (4,1)   (4,2)   (4,3)   (4,4)   (4,5)      (4,9)   (4,10)   (4,11)   (4,12) \n",
       " (5,1)   (5,2)   (5,3)   (5,4)   (5,5)      (5,9)   (5,10)   (5,11)   (5,12) \n",
       " (6,1)   (6,2)   (6,3)   (6,4)   (6,5)   …  (6,9)   (6,10)   (6,11)   (6,12) \n",
       " (7,1)   (7,2)   (7,3)   (7,4)   (7,5)      (7,9)   (7,10)   (7,11)   (7,12) \n",
       " (8,1)   (8,2)   (8,3)   (8,4)   (8,5)      (8,9)   (8,10)   (8,11)   (8,12) \n",
       " (9,1)   (9,2)   (9,3)   (9,4)   (9,5)      (9,9)   (9,10)   (9,11)   (9,12) \n",
       " (10,1)  (10,2)  (10,3)  (10,4)  (10,5)     (10,9)  (10,10)  (10,11)  (10,12)\n",
       " (11,1)  (11,2)  (11,3)  (11,4)  (11,5)  …  (11,9)  (11,10)  (11,11)  (11,12)\n",
       " (12,1)  (12,2)  (12,3)  (12,4)  (12,5)     (12,9)  (12,10)  (12,11)  (12,12)"
      ]
     },
     "execution_count": 113,
     "metadata": {},
     "output_type": "execute_result"
    }
   ],
   "source": [
    "a1 = [(x,y) for x=1:NGridSize, y=1:NGridSize]"
   ]
  },
  {
   "cell_type": "code",
   "execution_count": 115,
   "metadata": {
    "collapsed": false
   },
   "outputs": [
    {
     "data": {
      "text/plain": [
       "(3,2)"
      ]
     },
     "execution_count": 115,
     "metadata": {},
     "output_type": "execute_result"
    }
   ],
   "source": [
    "x1,y1=a1[3,2]"
   ]
  },
  {
   "cell_type": "code",
   "execution_count": 107,
   "metadata": {
    "collapsed": false,
    "scrolled": true
   },
   "outputs": [
    {
     "ename": "LoadError",
     "evalue": "LoadError: DimensionMismatch(\"parent has 12 elements, which is incompatible with size (12,12)\")\nwhile loading In[107], in expression starting on line 1",
     "output_type": "error",
     "traceback": [
      "LoadError: DimensionMismatch(\"parent has 12 elements, which is incompatible with size (12,12)\")\nwhile loading In[107], in expression starting on line 1",
      "",
      " in _reshape(::UnitRange{Int64}, ::Tuple{Int64,Int64}) at ./reshapedarray.jl:72",
      " in reshape(::UnitRange{Int64}, ::Int64, ::Int64, ::Vararg{Int64,N}) at ./reshapedarray.jl:39"
     ]
    }
   ],
   "source": [
    "Espacio_Coordenadas = reshape(1:NGridSize,NGridSize,NGridSize)"
   ]
  },
  {
   "cell_type": "code",
   "execution_count": 128,
   "metadata": {
    "collapsed": false
   },
   "outputs": [
    {
     "data": {
      "text/plain": [
       "sampleo_coordenadas (generic function with 2 methods)"
      ]
     },
     "execution_count": 128,
     "metadata": {},
     "output_type": "execute_result"
    }
   ],
   "source": [
    "function sampleo_coordenadas(Espacio_Coordenadas,γ,Grid,Row,Col)\n",
    "    \n",
    "    sampleo = Array{Int}[]\n",
    "    for x in 1:NGridSize, y in 1:NGridSize\n",
    "        \n",
    "        if γ < rand() && Grid[Row,Col] != 0\n",
    "                push!([x,y],sampleo)\n",
    "        end\n",
    "        \n",
    "     return sampleo\n",
    "    end\n",
    "end"
   ]
  },
  {
   "cell_type": "code",
   "execution_count": null,
   "metadata": {
    "collapsed": true
   },
   "outputs": [],
   "source": []
  },
  {
   "cell_type": "code",
   "execution_count": 133,
   "metadata": {
    "collapsed": false
   },
   "outputs": [
    {
     "data": {
      "text/plain": [
       "0-element Array{Array{Int64,N},1}"
      ]
     },
     "execution_count": 133,
     "metadata": {},
     "output_type": "execute_result"
    }
   ],
   "source": [
    "sampleo = sampleo_coordenadas(Espacio_Coordenadas,.5,Grid,Row,Col)"
   ]
  },
  {
   "cell_type": "code",
   "execution_count": 101,
   "metadata": {
    "collapsed": false
   },
   "outputs": [
    {
     "name": "stderr",
     "output_type": "stream",
     "text": [
      "WARNING: redefining constant a\n"
     ]
    },
    {
     "data": {
      "text/plain": [
       "2-element Array{Int64,1}:\n",
       " 5\n",
       " 6"
      ]
     },
     "execution_count": 101,
     "metadata": {},
     "output_type": "execute_result"
    }
   ],
   "source": [
    "\n",
    "a = [5,6]"
   ]
  },
  {
   "cell_type": "code",
   "execution_count": null,
   "metadata": {
    "collapsed": true
   },
   "outputs": [],
   "source": []
  }
 ],
 "metadata": {
  "celltoolbar": "Slideshow",
  "kernelspec": {
   "display_name": "Julia 0.5.0",
   "language": "julia",
   "name": "julia-0.5"
  },
  "language_info": {
   "file_extension": ".jl",
   "mimetype": "application/julia",
   "name": "julia",
   "version": "0.5.0"
  }
 },
 "nbformat": 4,
 "nbformat_minor": 1
}
