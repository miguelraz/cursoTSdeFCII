{
 "cells": [
  {
   "cell_type": "markdown",
   "metadata": {},
   "source": [
    "# Modelos de Cazador-Presa Discretos\n",
    "\n",
    "### Rodolfo Arturo González Trillo"
   ]
  },
  {
   "cell_type": "markdown",
   "metadata": {},
   "source": [
    "Los Modelos de Cazador-Presa son aquellos que representan la interacción de dos especies, una como cazador y otra como presa utilziados principalmente en ecología y biología pero con un sinúmero de aplicaciones en otras áreas de física, química y hasta economía.\n",
    "\n",
    "En ecología se llaman modelos de \"cazador—presa\" o de \"planta—hervíboro\". En este trabajo se les llama, modelos de \"Cazador-Presa\".\n",
    "\n",
    "La forma continua de éstos modelos lleva el nombre de ecuaciones de \"Lotka-Volterra\". La forma discreta es un mapeo de dos dimensiones de la forma [_(Kang et al, 2008)_](http://www.tandfonline.com/doi/abs/10.1080/17513750801956313 \"Kang Y., Armbruster D., Kuang Y., 2008: Dynamics of a plant–herbivore model. Journal of Biological Dynamics, Vol 2. No. 2\"):\n",
    "\n",
    "$$\n",
    "\\begin{aligned}\n",
    "C_{n+1} &= P_n e^{r \\left( 1-\\frac{P_n}{P_{max}} \\right)}\\left( 1-e^{-aC_n}\\right) \\\\\n",
    "P_{n+1} &= P_n e^{r \\left( 1-\\frac{P_n}{P_{max}} \\right)-aC_n}\n",
    "\\end{aligned}\n",
    "$$\n",
    "\n",
    "Donde $C_n$ y $P_n$ son, respectivamente, la población de los cazadores y las presas en sucesivas generaciones $n$, $a$ es una constante de la tasa de crecimiento de los cazadores.\n",
    "\n",
    "Para este modelo se realizan las siguientes suposiciones:\n",
    "1. $P_n$ representa la población de presas después de los ataque de los cazadores. $C_n$ representa la población de los cazadores antes de que mueran al final de la temporada $n$.\n",
    "\n",
    "2. Sin un cazador el número de presas sigue la dinámica del modelo de _Ricker_:\n",
    "\n",
    "$$\n",
    "P_{n+1}=P_n e^{r \\left( 1-\\frac{P_n}{P_{max}} \\right)}\n",
    "$$\n",
    "\n",
    "Un mapeo de dos dimensiones que define el crecimiento de una especie a una tasa de crecimiento $r$ y una capacidad de carga del ecosistema de $P_{max}$ individuos. El módelo de Ricker define cuantas presasa estarán disponibles para el consumo de los depredadores.\n",
    "\n",
    "3. Se asume que los cazadores comerán a las presas de manera aleatoria. El parámetro $a$ es una constante que correlaciona la cantidad total de presas que el carnívoro consume, a mayor $a$ mayor cantidad de presas son consumidas.\n",
    "\n",
    "Desupués de un ataque de los cazadores, la población de presas es reducida por una fracción $ e^{-aC_n}$, por eso tenemos:\n",
    "\n",
    "$$\n",
    "P_{n+1}=P_n e^{r \\left( 1-\\frac{P_n}{P_{max}} \\right)-aC_n}\n",
    "$$"
   ]
  },
  {
   "cell_type": "markdown",
   "metadata": {},
   "source": [
    "Realizamos los cambios de variables siguientes:\n",
    "\n",
    "$$\n",
    "\\begin{aligned}\n",
    "x_n &= \\frac{P_n}{P_{max}} \\\\\n",
    "y_n &= \\frac{C_n}{P_{max}} \\\\\n",
    "a &\\rightarrow aP_{max}\n",
    "\\end{aligned}\n",
    "$$\n",
    "\n",
    "Lo que nos lleva al sistema adimensional:\n",
    "\n",
    "$$\n",
    "\\begin{aligned}\n",
    "x_{n+1} &= x_n e^{r \\left[ 1-x_n \\right]-a y_n} \\\\ \n",
    "y_{n+1} &= x_n e^{r \\left[ 1-x_n \\right]}\\left[1-e^{-ay_n}\\right]\n",
    "\\end{aligned}\n",
    "$$\n"
   ]
  },
  {
   "cell_type": "code",
   "execution_count": 2,
   "metadata": {
    "collapsed": false
   },
   "outputs": [
    {
     "data": {
      "text/plain": [
       "mapeo_CP"
      ]
     },
     "execution_count": 2,
     "metadata": {},
     "output_type": "execute_result"
    }
   ],
   "source": [
    "\"\"\"\n",
    "mapeo_CP( v0, r, a, n)\n",
    "Dada una población inicial v0=[x_0, y_0] de cazadores y presas, \n",
    "realiza el mapeo en dos dimensiones para un módelo de Cazador-Presa para n generaciones, con las\n",
    "constantes r, la tasa de crecimiento poblacional de los cazadores y a la de conversión de presas en\n",
    "predadores, devolviendo el vector [x_n,y_n], la población de los cazadores y de las presas después \n",
    "de n generaciones.\n",
    "\"\"\"\n",
    "\n",
    "function mapeo_CP(v0::Array{Float64,1}, r::Float64, a::Float64, n::Int64)\n",
    "    \n",
    "    xi=v0[1]\n",
    "    yi=v0[2]\n",
    "    \n",
    "    for i in 1:n\n",
    "        xii = xi*exp(r*(1-xi)-a*yi)\n",
    "        yii = xi*exp(r*(1-xi))*(1-exp(-a*yi))\n",
    "        \n",
    "        xi = xii\n",
    "        yi = yii\n",
    "    end\n",
    "    \n",
    "    [xi,yi]\n",
    "end"
   ]
  },
  {
   "cell_type": "markdown",
   "metadata": {
    "collapsed": true
   },
   "source": [
    "El trabajo que se realizará es muy similar al de las clases y tareas, sólo que se extiende para dos dimensiones."
   ]
  },
  {
   "cell_type": "markdown",
   "metadata": {},
   "source": [
    "Es fácil ver que si $x_0=0$ entonces x_n=0, para n>1, lo mismo pasa en el caso de la variable $y$. Asumimos que $a>0$ y $r>0$."
   ]
  },
  {
   "cell_type": "code",
   "execution_count": 7,
   "metadata": {
    "collapsed": false
   },
   "outputs": [
    {
     "data": {
      "text/plain": [
       "2-element Array{Float64,1}:\n",
       " 1.0       \n",
       " 1.93939e-8"
      ]
     },
     "execution_count": 7,
     "metadata": {},
     "output_type": "execute_result"
    }
   ],
   "source": [
    "mapeo_CP([5.0,3.0], 1.3, 1.0, 100000)"
   ]
  },
  {
   "cell_type": "code",
   "execution_count": null,
   "metadata": {
    "collapsed": true
   },
   "outputs": [],
   "source": []
  }
 ],
 "metadata": {
  "anaconda-cloud": {},
  "kernelspec": {
   "display_name": "Julia 0.5.0",
   "language": "julia",
   "name": "julia-0.5"
  },
  "language_info": {
   "file_extension": ".jl",
   "mimetype": "application/julia",
   "name": "julia",
   "version": "0.5.0"
  }
 },
 "nbformat": 4,
 "nbformat_minor": 1
}
